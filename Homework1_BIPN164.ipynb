{
  "cells": [
    {
      "attachments": {},
      "cell_type": "markdown",
      "id": "e474357d",
      "metadata": {
        "id": "e474357d"
      },
      "source": [
        "$\\textbf{Name}:$   Willard Ford"
      ]
    },
    {
      "attachments": {},
      "cell_type": "markdown",
      "id": "858KV6XDy1Xw",
      "metadata": {
        "id": "858KV6XDy1Xw"
      },
      "source": [
        "$\\textbf{Group Number}$: Group 7"
      ]
    },
    {
      "cell_type": "markdown",
      "id": "04810456",
      "metadata": {
        "id": "04810456"
      },
      "source": [
        "# BIPN 164: Homework #1\n",
        "### Due **04-21-2023 at 8PM**. Please justify all your answers. If you have any questions, please email your TA's Meg Robinson (m5robinson@ucsd.edu) or Chandramouli Rajagopalan (crajagopalan@ucsd.edu)\n",
        "\n",
        "# Instructions:\n",
        "**To start working on this Homework, create a copy of this notebook and save it within your Google Drive (File -> Save a copy in Drive).**\n",
        "\n",
        "This Jupyter notebook contains exercises consisting of coding and discussion questions. For the discussion questions, please write your answer within a new markdown/text cell. Please hand in your .ipynb file (File -> Download -> Download .ipynb) on canvas by **8PM** on **Friday April 21**.\n",
        "\n",
        "To execute the code, it is necessary to load some external packages, so please execute the following code block."
      ]
    },
    {
      "cell_type": "code",
      "execution_count": null,
      "id": "f9e53afb",
      "metadata": {
        "id": "f9e53afb"
      },
      "outputs": [],
      "source": [
        "# IMPORT STATEMENTS\n",
        "import numpy as np\n",
        "import matplotlib.pyplot as plt\n",
        "\n",
        "from scipy.integrate import odeint\n",
        "import pandas as pd\n",
        "import matplotlib.pyplot as plt\n",
        "from scipy.signal import find_peaks\n"
      ]
    },
    {
      "cell_type": "markdown",
      "id": "028d6fd5",
      "metadata": {
        "id": "028d6fd5"
      },
      "source": [
        "To implement the HH model, you will need to implement the equations to model the Sodium, Potassium, and Leak currents:\n",
        "\n",
        "All the equations necessary to model the Sodium current:\n",
        "\n",
        "\\begin{align}\n",
        "  I_{Na}   &= \\bar{g}_{Na} m^3 h (V-E_{Na})\\\\\n",
        "  \\alpha_m &= 0.1 \\frac{V+40}{1-e^{-\\frac{V+40}{10}}} \\\\\n",
        "  \\beta_m  &= 4 e^{-\\frac{V+65}{18}} \\\\\n",
        "  \\tau_m &= \\frac{1}{\\alpha_m(V) + \\beta_m(V)} \\\\\n",
        "  m_0 &= \\frac{\\alpha_m(V)}{\\alpha_m(V) + \\beta_m(V)}\\\\\n",
        "  \\frac{dm}{dt} &= -\\frac{1}{\\tau_m (V)}[m-m_0(V)] \\\\\n",
        "  \\alpha_h &= 0.07 e^{-\\frac{V+65}{20}} \\\\\n",
        "  \\beta_h  &= \\frac{1}{1+e^{-\\frac{V+35}{10}}} \\\\\n",
        "  \\tau_h &= \\frac{1}{\\alpha_h(V) + \\beta_h(V)} \\\\\n",
        "  h_0 &= \\frac{\\alpha_h(V)}{\\alpha_h(V) + \\beta_h(V)}\\\\\n",
        "  \\frac{dh}{dt} &= -\\frac{1}{\\tau_h (V)}[h-h_0(V)] \\\\\n",
        "\\end{align}\n",
        "\n",
        "All the equations necessary to model the Potassium current:\n",
        "\\begin{align}\n",
        "  I_{K}   &= \\bar{g}_{K} n^4 (V-E_{K})\\\\\n",
        "  \\alpha_n &= 0.01 \\frac{V+55}{1-e^{-\\frac{V+55}{10}}} \\\\\n",
        "  \\beta_n  &= 0.125 e^{-\\frac{V+65}{80}}\\\\\n",
        "  \\tau_n &= \\frac{1}{\\alpha_n(V) + \\beta_n(V)} \\\\\n",
        "  n_0 &= \\frac{\\alpha_n(V)}{\\alpha_n(V) + \\beta_n(V)}\\\\\n",
        "  \\frac{dn}{dt} &= -\\frac{1}{\\tau_n (V)}[n-n_0(V)] \\\\\n",
        "\\end{align}\n",
        "\n",
        "All the equations to model the Leak current:\n",
        "\\begin{align}\n",
        "  I_{L}   &= \\bar{g}_{L} (V-E_{L})\\\\\n",
        "\\end{align}\n",
        "\n",
        "Finally, the equation to model the change in the membrane potential due to some injected current $I_{inj}$:\n",
        "$$ \\frac{dV}{dt} = (I_{inj}(t) - I_{Na} - I_K - I_L)/ C_m $$"
      ]
    },
    {
      "cell_type": "markdown",
      "id": "eaa3d555",
      "metadata": {
        "id": "eaa3d555"
      },
      "source": [
        "# Hodgkin-Huxley Model\n"
      ]
    },
    {
      "cell_type": "code",
      "execution_count": null,
      "id": "cb55ca85",
      "metadata": {
        "id": "cb55ca85"
      },
      "outputs": [],
      "source": [
        "def HHModel(y, t, I):\n",
        "    V = y[0]\n",
        "    m = y[1]\n",
        "    n = y[2]\n",
        "    h = y[3]\n",
        "\n",
        "    # computing the injected current for the present timestep.\n",
        "    # I[0] is the amplitude of the current\n",
        "    # I[1] start time of input current pulse\n",
        "    # I[2] end time of input current pulse    \n",
        "    Iinj = I[0]*(t>I[1]) - I[0]*(t>I[2])\n",
        "\n",
        "    # Constants\n",
        "    C_m  =   1.0 # membrane capacitance, in uF/cm^2\n",
        "    g_Na = 120.0 # maximum conductances, in mS/cm^2\n",
        "    g_K  =  36.0\n",
        "    g_L  =   0.3\n",
        "    E_Na =  50.0 # Nernst reversal potentials, in mV\n",
        "    E_K  = -77.0\n",
        "    E_L  = -54.387\n",
        "\n",
        "    # Compute alpha and beta functions\n",
        "    alpha_m = 0.1*(V+40.0)/(1.0-np.exp(-(V+40.0)/10.0))\n",
        "    beta_m  = 4.0*np.exp(-(V+65.0)/18.0)\n",
        "    alpha_h = 0.07*np.exp(-(V+65.0)/20.0)\n",
        "    beta_h  = 1.0/(1.0+np.exp(-(V+35.0)/10.0))\n",
        "    alpha_n = 0.01*(V+55.0)/(1.0-np.exp(-(V+55.0)/10.0))\n",
        "    beta_n  = 0.125*np.exp(-(V+65)/80.0)\n",
        "\n",
        "    # TODO: Compute membrane currents\n",
        "    I_Na = \n",
        "    I_K  = \n",
        "    I_L  = \n",
        "    I_ion = \n",
        "\n",
        "    # Compute time constants and steady-state values\n",
        "    tau_m = 1.0 / (alpha_m + beta_m)\n",
        "    m_inf = alpha_m / (alpha_m + beta_m)\n",
        "    tau_h = 1.0 / (alpha_h + beta_h)\n",
        "    h_inf = alpha_h / (alpha_h + beta_h)\n",
        "    tau_n = 1.0 / (alpha_n + beta_n)\n",
        "    n_inf = alpha_n / (alpha_n + beta_n)\n",
        "\n",
        "    # Compute derivatives\n",
        "    dVdt = \n",
        "    dmdt = \n",
        "    dhdt = \n",
        "    dndt = \n",
        "\n",
        "    return np.array([dVdt, dmdt, dndt, dhdt])\n"
      ]
    },
    {
      "cell_type": "markdown",
      "id": "6ea97354",
      "metadata": {
        "id": "6ea97354"
      },
      "source": [
        "## 1.1: Spike train generation\n",
        "### 1.1(a) Qualitative Analysis\n",
        "#### -Simulate the Hodgkin-Huxley Model over 500ms. Use initial conditions of \n",
        "\\begin{align}\n",
        "V & = -63\\\\\n",
        "m & = 0.0530\\\\\n",
        "n & = 0.3177\\\\\n",
        "h & = 0.5961 \n",
        "\\end{align}\n",
        "#### Simulate 4 different external current inputs of 0, 6, 10.7, and 20.  Simulate 2 different durations of the input current pulse: 2ms and 20ms\n",
        "#### - Plot the membrane potential V as a function of time, and explain the differences in action potentials. Qualitatively describe the dependence of the action potential shape as a function of input width/amplitude. "
      ]
    },
    {
      "cell_type": "code",
      "execution_count": null,
      "id": "fd1056cc",
      "metadata": {
        "id": "fd1056cc",
        "scrolled": false
      },
      "outputs": [],
      "source": [
        "# TODO: Set the simulation time and current input\n",
        "T_total = 500 # ms\n",
        "t = np.linspace(0, T_total, T_total+1)\n",
        "\n",
        "# TODO: set external current amplitudes\n",
        "I_current_amplitude = [..., ..., ..., ...] # microA/cm^2\n",
        "\n",
        "t_current_start = 50 # input current pulse will start at this time\n",
        "t_current_end   = [..., ...] # input current pulse will end at this time\n",
        "\n",
        "# TODO: Set the initial values for V, m, n, h\n",
        "initial = [..., ..., ..., ...]\n",
        "\n",
        "# initialize empty array\n",
        "Iapp = np.zeros_like(t)\n",
        "\n",
        "# Solve the differential equation using odeint\n",
        "# t_idx is the index of t_current_end, t0 is the value\n",
        "# i.e t_idx = 0,1 and t0 = endpoint1,endpoint2 \n",
        "for t_idx, t_end in enumerate(t_current_end): \n",
        "    V = []\n",
        "    m = []\n",
        "    n = []\n",
        "    h = []\n",
        "    for i_idx, i0 in enumerate(I_current_amplitude):  # loop over different amplitudes\n",
        "        Iinput = [i0,t_current_start,t_end]\n",
        "        # Solve the differential equation using odeint\n",
        "        \n",
        "        y = odeint(HHModel, initial, t, args=(Iinput,)) # integrate the values over time\n",
        "        V.append(y[:,0]) # access all of the values for V\n",
        "        m.append(y[:,1])\n",
        "        h.append(y[:,2])\n",
        "        n.append(y[:,3])\n",
        "\n",
        "    # m represents the activation of the sodium (Na+) channels.\n",
        "    # n represents the activation of the potassium (K+) channels.\n",
        "    # h represents the inactivation of the sodium (Na+) channels.\n",
        "    \n",
        "        # This is to visualize the stimulus\n",
        "        for i in range(T_total):\n",
        "            if (i>= t_current_start) and (i<=t_current_end[t_idx]):\n",
        "                Iapp[i] = I_current_amplitude[i_idx]\n",
        "            else:\n",
        "                Iapp[i] = 0\n",
        "\n",
        "        # TODO: Plot V(t)\n",
        "        plt.figure()\n",
        "        plt.plot(...,...)\n",
        "        \n",
        "        #TODO: Overlay with the stimulus\n",
        "        plt.plot(...,...)\n",
        "\n",
        "        plt.ylabel('Voltage (mV)', fontsize=15)\n",
        "        plt.xlabel('Time t (ms)', fontsize=15)\n",
        "        plt.title('Input Current = {} (\\u00B5A/cm\\u00B2)'.format(i0), fontweight='bold', fontsize=14)\n",
        "\n",
        "    \n",
        "\n",
        "        plt.show()\n",
        "\n"
      ]
    },
    {
      "cell_type": "markdown",
      "id": "c1216dd2",
      "metadata": {
        "id": "c1216dd2"
      },
      "source": [
        "## 1.1: Spike train generation\n",
        "### 1.1(b) Quantitative Analysis of the threshold\n",
        "\n",
        "#### -Simulate the Hodgkin-Huxley Model over 2ms. Use initial conditions of \n",
        "\\begin{align}\n",
        "V & = -63\\\\\n",
        "m & = 0.0530\\\\\n",
        "n & = 0.3177\\\\\n",
        "h & = 0.5961 \n",
        "\\end{align}\n",
        "#### What is the minimal current input that will elicit a spike? For the largest input current that *does not* elicit a spike, what is the maximal membrane potential reached? This will be your best estimate of the threshold\n",
        "#### -BONUS: repeat the above for a wider input current (larger stimulus duration). Explain why the threshold is sensitive to the input pulse "
      ]
    },
    {
      "cell_type": "code",
      "execution_count": null,
      "id": "efecbc5e",
      "metadata": {
        "id": "efecbc5e"
      },
      "outputs": [],
      "source": [
        "# TODO: Set the simulation time and current input\n",
        "T_total = 500 # ms\n",
        "t = np.linspace(0, T_total, T_total+1)\n",
        "\n",
        "# TO DO: Find minimal current that will elicit a spike \n",
        "I_current =  # microA/cm^2\n",
        "\n",
        "\n",
        "# TODO: Set the initial values for V, m, n, h\n",
        "initial = [..., ..., ..., ...]\n",
        "\n",
        "t_current_start = 50 # input current pulse will start at this time\n",
        "t_current_end   = ... # input current pulse will end at this time\n",
        "\n",
        "# Solve the differential equation using odeint\n",
        "t = np.linspace(0, T_total, 10000)\n",
        "\n",
        "\n",
        "Iinput = [I_current,t_current_start,t_current_end]\n",
        "y = odeint(HHModel, initial, t, args=(Iinput,)) # integrate the values over time\n",
        "V = (y[:,0]) # access all of the values for V\n",
        "m = (y[:,1])\n",
        "h = (y[:,2])\n",
        "n = (y[:,3])\n",
        "\n",
        "# This is to visualize the stimulus\n",
        "for i in range(T_total):\n",
        "    if (i>= t_current_start) and (i<=t_current_end[t_idx]):\n",
        "        Iapp[i] = I_current_amplitude[i_idx]\n",
        "    else:\n",
        "        Iapp[i] = 0\n",
        "\n",
        "\n",
        "# TODO: Plot V(t)\n",
        "plt.figure()\n",
        "plt.plot(...,...)\n",
        "plt.axhline(y=0, color='gray', linestyle='--')\n",
        "\n",
        "#TODO: Overlay with the stimulus\n",
        "plt.plot(...,...)\n",
        "\n",
        "plt.ylabel('Voltage (mV)', fontsize=15)\n",
        "plt.xlabel('Time t (ms)', fontsize=15)\n",
        "plt.title('Input Current = {} (\\u00B5A/cm\\u00B2)'.format(I_current), fontweight='bold', fontsize=14)\n",
        "\n",
        "plt.show()\n",
        "\n",
        "\n",
        "print(\"The maximal membrane potential reached\")\n",
        "print(np.max(V))"
      ]
    },
    {
      "cell_type": "markdown",
      "id": "10cdecf1",
      "metadata": {
        "id": "10cdecf1"
      },
      "source": [
        "## 1.1: Spike train generation\n",
        "### 1.1(c) Quantitative Analysis of the amplitude\n",
        "\n",
        "#### -Simulate the Hodgkin-Huxley Model over 500ms. Use initial conditions of \n",
        "\\begin{align}\n",
        "V & = -63\\\\\n",
        "m & = 0.0530\\\\\n",
        "n & = 0.3177\\\\\n",
        "h & = 0.5961 \n",
        "\\end{align}\n",
        "#### Now current will be injected throughout the simulation. Find the minimal current that will generate a sustained spike train. Describe the shape of the action potential."
      ]
    },
    {
      "cell_type": "code",
      "execution_count": null,
      "id": "f5966226",
      "metadata": {
        "id": "f5966226"
      },
      "outputs": [],
      "source": [
        "# TODO: Set the simulation time and current input\n",
        "T_total = 500 # ms\n",
        "t = np.linspace(0, T_total, T_total+1)\n",
        "\n",
        "\n",
        "# TO DO: Find minimal current that will generate a sustained spike train\n",
        "I_current =  # microA/cm^2\n",
        "t_current_start = 0 # input current pulse will start at this time\n",
        "t_current_end  = T_total # input current pulse will end at this time\n",
        "\n",
        "# TODO: Set the initial values for V, m, n, h\n",
        "initial = [..., ..., ..., ...]\n",
        "\n",
        "\n",
        "# Solve the differential equation using odeint\n",
        "\n",
        "\n",
        "Iinput = [I_current,t_current_start,t_current_end]\n",
        "y = odeint(HHModel, initial, t, args=(Iinput,)) # integrate the values over time\n",
        "V = (y[:,0]) # access all of the values for V\n",
        "m = (y[:,1])\n",
        "h = (y[:,2])\n",
        "n = (y[:,3])\n",
        "\n",
        "\n",
        "\n",
        "# TODO: Plot V(t)\n",
        "plt.figure()\n",
        "plt.plot(...,...)\n",
        "plt.axhline(y=0, color='gray', linestyle='--')\n",
        "\n",
        "\n",
        "plt.ylabel('Voltage (mV)', fontsize=15)\n",
        "plt.xlabel('Time t (ms)', fontsize=15)\n",
        "plt.title('Input Current = {} (\\u00B5A/cm\\u00B2)'.format(I_current), fontweight='bold', fontsize=14)\n",
        "\n",
        "plt.show()"
      ]
    },
    {
      "cell_type": "markdown",
      "id": "bf44a95a",
      "metadata": {
        "id": "bf44a95a"
      },
      "source": [
        "## 1.2: Firing rate vs Current\n",
        "####  - Using a constant input (10) and T_total = 500, count the number of spikes in a window of fixed size.\n",
        "        (Hint: you can use the find_peaks() function from scipy.signal to find when the model neuron spikes.\n",
        "        Docs: https://docs.scipy.org/doc/scipy/reference/generated/scipy.signal.find_peaks.html)\n",
        "#### - Plot the \"F-I curve\" (the firing frequency as a function of the input current). \n",
        "#### - In words, can \"HH neuron\" be driven at an arbitrarily high frequency?\n"
      ]
    },
    {
      "cell_type": "code",
      "execution_count": null,
      "id": "57945370",
      "metadata": {
        "id": "57945370"
      },
      "outputs": [],
      "source": [
        "#TODO: Set T_total\n",
        "T_total = 500 # ms\n",
        "t = np.linspace(0, T_total, 10000)\n",
        "\n",
        "\n",
        "# TO DO: Find minimal current that will generate a sustained spike train\n",
        "I_current =  # microA/cm^2 \n",
        "t_current_start = 0 # input current pulse will start at this time\n",
        "t_current_end   = T_total # input current pulse will end at this time\n",
        "\n",
        "\n",
        "# TODO: Set the initial values for V, m, n, h\n",
        "initial = [..., ..., ..., ...]\n",
        "\n",
        "\n",
        "# Solve the differential equation using odeint\n",
        "t = np.linspace(0, T_total, 10000)\n",
        "\n",
        "Iinput = [I_current,t_current_start,t_current_end]\n",
        "y = odeint(HHModel, initial, t, args=(Iinput,)) # integrate the values over time\n",
        "V = (y[:,0]) # access all of the values for V\n",
        "m = (y[:,1])\n",
        "h = (y[:,2])\n",
        "n = (y[:,3])\n",
        "\n",
        "\n",
        "\n",
        "plt.plot(t,V)\n",
        "#TODO: find_peaks\n",
        "peaks, _ = find_peaks(..., ...) #use a height of 10. Play around with height and see what happens when you change this threshold\n",
        "num_peaks = len(peaks)\n",
        "\n",
        "\n",
        "\n",
        "plt.plot(t[peaks], V[peaks], \"x\", label=f\"{num_peaks} peaks above 10 mV\")\n",
        "plt.legend()\n",
        "plt.ylabel('Voltage (mV)', fontsize=15) \n",
        "plt.xlabel('Time t (ms)', fontsize=15) \n",
        "plt.show()\n",
        "\n",
        "\n",
        "# Counting the number of peaks\n",
        "print('Number of peaks:', num_peaks)\n"
      ]
    },
    {
      "cell_type": "code",
      "execution_count": null,
      "id": "862ec440",
      "metadata": {
        "id": "862ec440"
      },
      "outputs": [],
      "source": [
        "import numpy as np\n",
        "from scipy.integrate import odeint\n",
        "from scipy.signal import find_peaks\n",
        "import matplotlib.pyplot as plt\n",
        "\n",
        "# Set a range of current inputs\n",
        "I_current = np.arange(1, 60, 3)\n",
        "t_current_start = 0 # input current pulse will start at this time\n",
        "t_current_end   = T_total # input current pulse will end at this time\n",
        "\n",
        "# Preallocate a vector for storing the spike counts and peak amplitudes\n",
        "N_spikes = np.zeros(len(I_current))\n",
        "\n",
        "# TO DO: Set the initial values for V, m, n, h\n",
        "initial = [..., ..., ..., ...]\n",
        "\n",
        "\n",
        "T = 500\n",
        "\n",
        "t = np.linspace(0, T, 10000)\n",
        "\n",
        "for i in range(len(I_current)):\n",
        "    Iinput = [I_current[i],t_current_start,t_current_end]\n",
        "    sol = odeint(HHModel, initial, t, args=(Iinput,))\n",
        "    V = sol[:,0]\n",
        "    peaks, _ = find_peaks(..., ...) # Play around with height and see what happens when you change this threshold\n",
        "    \n",
        "    # Count the number of spikes\n",
        "    N_spikes[i] = len(peaks)\n",
        "\n",
        "\n"
      ]
    },
    {
      "cell_type": "code",
      "execution_count": null,
      "id": "1069ccdd",
      "metadata": {
        "id": "1069ccdd"
      },
      "outputs": [],
      "source": [
        "# TODO: plot the f-I curve\n",
        "# note, divide N_spikes by T *1000\n",
        "plt.plot(...,..., '-o')\n",
        "plt.xlabel('Applied Current (μA/cm$^2$)')\n",
        "plt.ylabel('Avg # of spikes')\n",
        "plt.title(\"F-I curve\")\n",
        "plt.show()"
      ]
    },
    {
      "cell_type": "markdown",
      "id": "a107b2a4",
      "metadata": {
        "id": "a107b2a4"
      },
      "source": [
        "## 1.3: Correlated Variables\n",
        "####  - Use a current value of 10.  For each pair of variables V, m, n, h (6 pairs), plot one variable as a function of the other. \n",
        "#### -Identify pairs that are most strongly correlated. \n",
        "#### -How can this identification help in reducing the neuron model’s dimension? \n",
        "#### -Does the choice of current amplitude affect which pairs of variables are most correlated?"
      ]
    },
    {
      "cell_type": "code",
      "execution_count": null,
      "id": "a10b67ea",
      "metadata": {
        "id": "a10b67ea"
      },
      "outputs": [],
      "source": [
        "# Rerun the simulation for an amplitude above the spiking threshold\n",
        "\n",
        "# Set the simulation time and current input\n",
        "T = 500  # ms\n",
        "\n",
        "# TODO: set amplitude above the spiking threshold. Does this choice affect correlation?\n",
        "I_current =  # microA/cm^2\n",
        "t_current_start = 0 # input current pulse will start at this time\n",
        "t_current_end   = T_total # input current pulse will end at this time\n",
        "\n",
        "\n",
        "# TODO: Set the initial values for V, m, n, h\n",
        "initial = \n",
        "\n",
        "\n",
        "# Solve the differential equation using odeint\n",
        "t = np.linspace(0, T, 10000)\n",
        "Iinput = [I_current,t_current_start,t_current_end]\n",
        "y = odeint(HHModel, initial, t, args=(Iinput,))\n",
        "\n",
        "\n",
        "# Get the V(t), m(t), n(t), h(t)\n",
        "V = y[:,0]\n",
        "m = y[:,1] \n",
        "n = y[:,2]\n",
        "h = y[:,3]"
      ]
    },
    {
      "cell_type": "code",
      "execution_count": null,
      "id": "ddcf7a9c",
      "metadata": {
        "id": "ddcf7a9c"
      },
      "outputs": [],
      "source": [
        "# TODO: Provided below is a SAMPLE of how to plot 6 plots at once. Run this code block to see the example\n",
        "# Change the code to plot V-m, V-n, V-h, n-m, n-h, h-m\n",
        "\n",
        "x = np.linspace(0, 2*np.pi, 100)\n",
        "y1 = np.sin(x)\n",
        "y2 = np.cos(x)\n",
        "y3 = np.tan(x)\n",
        "y4 = np.exp(-x)\n",
        "y5 = np.sqrt(x)\n",
        "y6 = np.log(x)\n",
        "\n",
        "# Create a figure with 6 subplots\n",
        "fig, axes = plt.subplots(2, 3, figsize=(10, 6))\n",
        "\n",
        "# Plot data on each subplot\n",
        "axes[0, 0].plot(x, y1)\n",
        "axes[0, 0].set_title('sin(x)')\n",
        "\n",
        "axes[0, 1].plot(x, y2)\n",
        "axes[0, 1].set_title('cos(x)')\n",
        "\n",
        "axes[0, 2].plot(x, y3)\n",
        "axes[0, 2].set_title('tan(x)')\n",
        "\n",
        "axes[1, 0].plot(x, y4)\n",
        "axes[1, 0].set_title('exp(-x)')\n",
        "\n",
        "axes[1, 1].plot(x, y5)\n",
        "axes[1, 1].set_title('sqrt(x)')\n",
        "\n",
        "axes[1, 2].plot(x, y6)\n",
        "axes[1, 2].set_title('log(x)')\n",
        "\n",
        "# Add global labels and title\n",
        "fig.suptitle('Six Subplots')\n",
        "fig.text(0.5, 0.04, 'x', ha='center', fontsize=12)\n",
        "fig.text(0.04, 0.5, 'y', va='center', rotation='vertical', fontsize=12)\n",
        "\n",
        "# Adjust spacing and layout\n",
        "plt.subplots_adjust(wspace=0.3, hspace=0.5)\n",
        "\n",
        "# Show the plot\n",
        "plt.show()\n"
      ]
    },
    {
      "cell_type": "code",
      "execution_count": null,
      "id": "84a481b9",
      "metadata": {
        "id": "84a481b9"
      },
      "outputs": [],
      "source": [
        "# Identify pairs that are most strongly correlated\n",
        "\n",
        "# Put each variable in a dataframe\n",
        "data = {'V': V, 'm': m, 'n': n, 'h': h}\n",
        "\n",
        "# Create a dataframe using the dictionary\n",
        "df = pd.DataFrame(data)\n",
        "\n",
        "# Print the dataframe\n",
        "print(df)"
      ]
    },
    {
      "cell_type": "code",
      "execution_count": null,
      "id": "4e8f0d6b",
      "metadata": {
        "id": "4e8f0d6b"
      },
      "outputs": [],
      "source": [
        "# TODO: calculate the correlation matrix\n",
        "corr_matrix = \n",
        "\n",
        "# Print the correlation matrix\n",
        "print(corr_matrix)"
      ]
    },
    {
      "cell_type": "code",
      "execution_count": null,
      "id": "530d180d",
      "metadata": {
        "id": "530d180d"
      },
      "outputs": [],
      "source": []
    }
  ],
  "metadata": {
    "colab": {
      "provenance": []
    },
    "kernelspec": {
      "display_name": "Python 3 (ipykernel)",
      "language": "python",
      "name": "python3"
    },
    "language_info": {
      "codemirror_mode": {
        "name": "ipython",
        "version": 3
      },
      "file_extension": ".py",
      "mimetype": "text/x-python",
      "name": "python",
      "nbconvert_exporter": "python",
      "pygments_lexer": "ipython3",
      "version": "3.9.12"
    }
  },
  "nbformat": 4,
  "nbformat_minor": 5
}
